{
 "cells": [
  {
   "cell_type": "code",
   "execution_count": 1,
   "id": "7fa24349",
   "metadata": {},
   "outputs": [],
   "source": [
    "d = {\"key\":\"value\",\"key1\":\"value1\"}"
   ]
  },
  {
   "cell_type": "code",
   "execution_count": 2,
   "id": "b0f876a6",
   "metadata": {},
   "outputs": [
    {
     "data": {
      "text/plain": [
       "'value'"
      ]
     },
     "execution_count": 2,
     "metadata": {},
     "output_type": "execute_result"
    }
   ],
   "source": [
    "d['key']"
   ]
  },
  {
   "cell_type": "code",
   "execution_count": 3,
   "id": "3a994c1b",
   "metadata": {},
   "outputs": [],
   "source": [
    "# d.key"
   ]
  },
  {
   "cell_type": "code",
   "execution_count": 4,
   "id": "2ec6e860",
   "metadata": {},
   "outputs": [],
   "source": [
    "from box import ConfigBox"
   ]
  },
  {
   "cell_type": "code",
   "execution_count": 5,
   "id": "13e02d1e",
   "metadata": {},
   "outputs": [
    {
     "data": {
      "text/plain": [
       "'value'"
      ]
     },
     "execution_count": 5,
     "metadata": {},
     "output_type": "execute_result"
    }
   ],
   "source": [
    "d2 = ConfigBox(d)\n",
    "d2.key\n"
   ]
  },
  {
   "cell_type": "code",
   "execution_count": 6,
   "id": "480df22d",
   "metadata": {},
   "outputs": [],
   "source": [
    "def get_product(x=int, y=int) -> int:\n",
    "    return x * y"
   ]
  },
  {
   "cell_type": "code",
   "execution_count": 7,
   "id": "a194e7c3",
   "metadata": {},
   "outputs": [
    {
     "data": {
      "text/plain": [
       "6"
      ]
     },
     "execution_count": 7,
     "metadata": {},
     "output_type": "execute_result"
    }
   ],
   "source": [
    "get_product(x=2, y=3)"
   ]
  },
  {
   "cell_type": "code",
   "execution_count": 8,
   "id": "bca46308",
   "metadata": {},
   "outputs": [
    {
     "data": {
      "text/plain": [
       "6"
      ]
     },
     "execution_count": 8,
     "metadata": {},
     "output_type": "execute_result"
    }
   ],
   "source": [
    "get_product(2, 3)"
   ]
  },
  {
   "cell_type": "code",
   "execution_count": 9,
   "id": "bd46b710",
   "metadata": {},
   "outputs": [
    {
     "data": {
      "text/plain": [
       "'33'"
      ]
     },
     "execution_count": 9,
     "metadata": {},
     "output_type": "execute_result"
    }
   ],
   "source": [
    "get_product(2, \"3\")    # This will raise a TypeError because \"3\" is a string, not an int"
   ]
  },
  {
   "cell_type": "code",
   "execution_count": 10,
   "id": "8ef6110a",
   "metadata": {},
   "outputs": [],
   "source": [
    "from ensure import ensure_annotations"
   ]
  },
  {
   "cell_type": "code",
   "execution_count": 11,
   "id": "7665fc67",
   "metadata": {},
   "outputs": [],
   "source": [
    "@ensure_annotations\n",
    "def get_product(x: int, y: int) -> int:\n",
    "    return x * y"
   ]
  },
  {
   "cell_type": "code",
   "execution_count": 12,
   "id": "52b42a16",
   "metadata": {},
   "outputs": [],
   "source": [
    "# get_product(2, \"3\") # This will raise a TypeError because \"3\" is a string, not an int and give error message because of ensure_annotations"
   ]
  },
  {
   "cell_type": "markdown",
   "id": "b723d2fb",
   "metadata": {},
   "source": [
    "### Download data from googledrive"
   ]
  },
  {
   "cell_type": "code",
   "execution_count": 13,
   "id": "d21035fe",
   "metadata": {},
   "outputs": [],
   "source": [
    "import gdown"
   ]
  },
  {
   "cell_type": "code",
   "execution_count": 14,
   "id": "43efa8a9",
   "metadata": {},
   "outputs": [],
   "source": [
    "url = \"https://drive.google.com/file/d/1CZtYV7_O1aqII4HY2TzCdTnnRHgRBTVS/view?usp=sharing\""
   ]
  },
  {
   "cell_type": "code",
   "execution_count": 15,
   "id": "2e149378",
   "metadata": {},
   "outputs": [
    {
     "data": {
      "text/plain": [
       "'1CZtYV7_O1aqII4HY2TzCdTnnRHgRBTVS'"
      ]
     },
     "execution_count": 15,
     "metadata": {},
     "output_type": "execute_result"
    }
   ],
   "source": [
    "file_id = url.split(\"/\")[-2]\n",
    "file_id"
   ]
  },
  {
   "cell_type": "code",
   "execution_count": 16,
   "id": "adde0b34",
   "metadata": {},
   "outputs": [],
   "source": [
    "# output = f\"https://drive.google.com/uc?id={file_id}\"\n",
    "# gdown.download(output, \"car_pic.zip\", quiet=False)"
   ]
  },
  {
   "cell_type": "code",
   "execution_count": 17,
   "id": "37463241",
   "metadata": {},
   "outputs": [
    {
     "name": "stderr",
     "output_type": "stream",
     "text": [
      "Downloading...\n",
      "From: https://drive.google.com/uc?/export=download&id=1CZtYV7_O1aqII4HY2TzCdTnnRHgRBTVS\n",
      "To: d:\\UAE_USED_CAR_DEEP_LEARNING\\UAE_USED_CAR_DEEP_LEARNING_ANALYSIS_PROJECT\\research\\car_pic.zip\n",
      "100%|██████████| 449k/449k [00:00<00:00, 1.51MB/s]\n"
     ]
    },
    {
     "data": {
      "text/plain": [
       "'car_pic.zip'"
      ]
     },
     "execution_count": 17,
     "metadata": {},
     "output_type": "execute_result"
    }
   ],
   "source": [
    "prefix = 'https://drive.google.com/uc?/export=download&id='\n",
    "gdown.download(prefix+file_id, \"car_pic.zip\", quiet=False)"
   ]
  },
  {
   "cell_type": "code",
   "execution_count": 18,
   "id": "031fbe92",
   "metadata": {},
   "outputs": [],
   "source": [
    "# import gdown\n",
    "\n",
    "# # Replace with your actual file ID\n",
    "# file_id = \"1Iv5kNzfdMLnIMkYwn0BAzbWhEH0damWT\"\n",
    "# file_url = f\"https://drive.google.com/uc?export=download&id={file_id}\"\n",
    "# output_file = \"Car_Pic.zip\"\n",
    "\n",
    "# try:\n",
    "#     gdown.download(file_url, output_file, quiet=False)\n",
    "# except Exception as e:\n",
    "#     print(f\"An error occurred: {e}\")\n"
   ]
  },
  {
   "cell_type": "code",
   "execution_count": null,
   "id": "00d8faaa",
   "metadata": {},
   "outputs": [],
   "source": []
  },
  {
   "cell_type": "code",
   "execution_count": null,
   "id": "bd4504d6",
   "metadata": {},
   "outputs": [],
   "source": []
  }
 ],
 "metadata": {
  "kernelspec": {
   "display_name": "Python 3",
   "language": "python",
   "name": "python3"
  },
  "language_info": {
   "codemirror_mode": {
    "name": "ipython",
    "version": 3
   },
   "file_extension": ".py",
   "mimetype": "text/x-python",
   "name": "python",
   "nbconvert_exporter": "python",
   "pygments_lexer": "ipython3",
   "version": "3.10.16"
  }
 },
 "nbformat": 4,
 "nbformat_minor": 5
}
