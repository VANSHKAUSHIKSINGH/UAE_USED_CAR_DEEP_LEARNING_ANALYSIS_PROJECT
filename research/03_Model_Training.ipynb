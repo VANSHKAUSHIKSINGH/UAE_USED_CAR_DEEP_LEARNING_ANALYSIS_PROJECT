{
 "cells": [
  {
   "cell_type": "code",
   "execution_count": 1,
   "id": "450d7a62",
   "metadata": {},
   "outputs": [],
   "source": [
    "import os"
   ]
  },
  {
   "cell_type": "code",
   "execution_count": 2,
   "id": "70a27f74",
   "metadata": {},
   "outputs": [
    {
     "data": {
      "text/plain": [
       "'d:\\\\UAE_USED_CAR_DEEP_LEARNING\\\\UAE_USED_CAR_DEEP_LEARNING_ANALYSIS_PROJECT\\\\research'"
      ]
     },
     "execution_count": 2,
     "metadata": {},
     "output_type": "execute_result"
    }
   ],
   "source": [
    "%pwd"
   ]
  },
  {
   "cell_type": "code",
   "execution_count": 3,
   "id": "270d2ccf",
   "metadata": {},
   "outputs": [],
   "source": [
    "os.chdir(\"../\")"
   ]
  },
  {
   "cell_type": "code",
   "execution_count": 4,
   "id": "5f922312",
   "metadata": {},
   "outputs": [
    {
     "data": {
      "text/plain": [
       "'d:\\\\UAE_USED_CAR_DEEP_LEARNING\\\\UAE_USED_CAR_DEEP_LEARNING_ANALYSIS_PROJECT'"
      ]
     },
     "execution_count": 4,
     "metadata": {},
     "output_type": "execute_result"
    }
   ],
   "source": [
    "%pwd"
   ]
  },
  {
   "cell_type": "code",
   "execution_count": 5,
   "id": "46a1d51a",
   "metadata": {},
   "outputs": [],
   "source": [
    "from pathlib import Path\n",
    "from dataclasses import dataclass\n",
    "\n",
    "@dataclass(frozen=True)\n",
    "class TrainingConfig:\n",
    "    root_dir : Path\n",
    "    trained_model_path : Path\n",
    "    updated_base_model_path : Path   \n",
    "    training_data : Path\n",
    "    params_epochs : int\n",
    "    params_batch_size : int\n",
    "    params_is_augmentation : bool\n",
    "    params_image_size : list"
   ]
  },
  {
   "cell_type": "code",
   "execution_count": 6,
   "id": "7e03f0dc",
   "metadata": {},
   "outputs": [],
   "source": [
    "from USED_CAR_PREDICTION.constants import *\n",
    "from USED_CAR_PREDICTION.utils.common import read_yaml, create_directories\n",
    "import tensorflow as tf\n",
    "import os"
   ]
  },
  {
   "cell_type": "code",
   "execution_count": 7,
   "id": "47d302d5",
   "metadata": {},
   "outputs": [],
   "source": [
    "class ConfigurationManager:\n",
    "    def __init__(\n",
    "        self,\n",
    "        config_filepath=CONFIG_FILE_PATH,\n",
    "        params_filepath=PARAMS_FILE_PATH):  \n",
    "        \n",
    "        self.config = read_yaml(config_filepath)\n",
    "        self.params = read_yaml(params_filepath)\n",
    "        \n",
    "        create_directories([self.config.artifacts_root])\n",
    "        \n",
    "        \n",
    "        \n",
    "    def get_training_config(self) -> TrainingConfig:\n",
    "        training = self.config.training\n",
    "        prepare_base_model = self.config.prepare_base_model\n",
    "        params = self.params\n",
    "        training_data = os.path.join(self.config.data_ingestion.unzip_dir, \"car_pic\")\n",
    "        \n",
    "        create_directories([\n",
    "            Path(training.root_dir)\n",
    "        ])\n",
    "        \n",
    "        training_config = TrainingConfig(\n",
    "            root_dir = Path(training.root_dir),\n",
    "            trained_model_path = Path(training.trained_model_path),\n",
    "            updated_base_model_path=Path(prepare_base_model.updated_base_model_path),\n",
    "            training_data = Path(training_data),\n",
    "            params_epochs = params.EPOCHS,\n",
    "            params_batch_size = params.BATCH_SIZE,\n",
    "            params_is_augmentation = params.AUGMENTATION,\n",
    "            params_image_size = params.IMAGE_SIZE\n",
    "        )\n",
    "        \n",
    "        return training_config"
   ]
  },
  {
   "cell_type": "code",
   "execution_count": 8,
   "id": "3cfd47d8",
   "metadata": {},
   "outputs": [],
   "source": [
    "import os\n",
    "import urllib.request as request\n",
    "from zipfile import ZipFile\n",
    "import tensorflow as tf\n",
    "import time"
   ]
  },
  {
   "cell_type": "code",
   "execution_count": 9,
   "id": "49b48830",
   "metadata": {},
   "outputs": [],
   "source": [
    "# from tensorflow.keras.models import Sequential\n",
    "# from tensorflow.keras.layers import Dense, Flatten\n",
    "\n",
    "# def create_model():\n",
    "#     model = Sequential([\n",
    "#         # Add your convolutional layers here\n",
    "#         Flatten(),\n",
    "#         Dense(4, activation='softmax')  # Change to 4 for 4 classes\n",
    "#     ])\n",
    "#     return model\n"
   ]
  },
  {
   "cell_type": "code",
   "execution_count": 10,
   "id": "72771d09",
   "metadata": {},
   "outputs": [],
   "source": [
    "class Training:\n",
    "    def __init__(self, config: TrainingConfig):\n",
    "        self.config = config\n",
    "        \n",
    "        \n",
    "    def get_base_model(self):\n",
    "        self.model = tf.keras.models.load_model(\n",
    "            self.config.updated_base_model_path\n",
    "        )\n",
    "        \n",
    "        \n",
    "    def train_valid_generator(self):\n",
    "        \n",
    "        datagenerator_kwargs = dict(\n",
    "            rescale = 1./255,\n",
    "            validation_split = 0.20\n",
    "        )\n",
    "        \n",
    "        dataflow_kwargs = dict(\n",
    "            target_size = self.config.params_image_size[:-1],\n",
    "            batch_size = self.config.params_batch_size,\n",
    "            interpolation = \"bilinear\"\n",
    "        )\n",
    "                \n",
    "        # # Verify the training data directory path and contents\n",
    "        # print(f\"Training data directory: {self.config.training_data}\")\n",
    "        \n",
    "        # # List contents in the directory (non-recursive)\n",
    "        # if Path(self.config.training_data).exists():\n",
    "        #     files_and_dirs = os.listdir(self.config.training_data)\n",
    "        #     print(f\"Contents of training data directory ({self.config.training_data}): {files_and_dirs}\")\n",
    "        # else:\n",
    "        #     print(f\"Training data directory {self.config.training_data} does not exist.\")\n",
    "            \n",
    "            \n",
    "        valid_datagenerator = tf.keras.preprocessing.image.ImageDataGenerator(\n",
    "            **datagenerator_kwargs\n",
    "        )\n",
    "        \n",
    "        self.valid_generator = valid_datagenerator.flow_from_directory(\n",
    "            directory= self.config.training_data,\n",
    "            subset=\"validation\",\n",
    "            shuffle=False,\n",
    "            # target_size=self.config.params_image_size[:-1],\n",
    "            # batch_size=self.config.params_batch_size,\n",
    "            # class_mode=\"categorical\",  # Use categorical for multi-class classification\n",
    "            **dataflow_kwargs\n",
    "        )\n",
    "        \n",
    "        \n",
    "        if self.config.params_is_augmentation:\n",
    "            train_datagenerator = tf.keras.preprocessing.image.ImageDataGenerator(\n",
    "                rotation_range = 40,\n",
    "                horizontal_flip  = True,\n",
    "                width_shift_range = 0.2,\n",
    "                height_shift_range  = 0.2,\n",
    "                shear_range = 0.2,\n",
    "                zoom_range = 0.2,\n",
    "                # rescale= 1./255,\n",
    "                # validation_split = 0.20,  # Ensure the same split for training\n",
    "                **datagenerator_kwargs\n",
    "            )\n",
    "        else:\n",
    "            train_datagenerator = valid_datagenerator\n",
    "            \n",
    "        self.train_generator = train_datagenerator.flow_from_directory(\n",
    "            directory= self.config.training_data,\n",
    "            subset=\"training\",\n",
    "            shuffle=True,\n",
    "            # target_size=self.config.params_image_size[:-1],\n",
    "            # batch_size=self.config.params_batch_size,\n",
    "            # class_mode=\"categorical\",  # Use categorical for multi-class classification\n",
    "            **dataflow_kwargs\n",
    "        )    \n",
    "            \n",
    "    @staticmethod\n",
    "    def save_model(path: Path, model: tf.keras.Model):\n",
    "        model.save(path)\n",
    "        \n",
    "        \n",
    "        \n",
    "        \n",
    "    def train(self):\n",
    "        self.steps_per_epoch = self.train_generator.samples // self.train_generator.batch_size\n",
    "        self.validation_steps = self.valid_generator.samples // self.valid_generator.batch_size\n",
    "        \n",
    "        self.model.fit(\n",
    "            self.train_generator,\n",
    "            epochs = self.config.params_epochs,\n",
    "            steps_per_epoch = self.steps_per_epoch,\n",
    "            validation_steps = self.validation_steps,\n",
    "            validation_data = self.valid_generator\n",
    "        )\n",
    "        \n",
    "        self.save_model(\n",
    "            path=self.config.trained_model_path,\n",
    "            model=self.model\n",
    "        )\n",
    "        \n",
    "        "
   ]
  },
  {
   "cell_type": "code",
   "execution_count": 11,
   "id": "f2f85d3d",
   "metadata": {},
   "outputs": [
    {
     "name": "stdout",
     "output_type": "stream",
     "text": [
      "[2025-06-15 13:06:38,735 : INFO : YAML file config\\config.yaml loaded successfully.]\n",
      "[2025-06-15 13:06:38,738 : INFO : YAML file params.yaml loaded successfully.]\n",
      "[2025-06-15 13:06:38,739 : INFO : created directory at: artifacts]\n",
      "[2025-06-15 13:06:38,742 : INFO : created directory at: artifacts\\training]\n",
      "Found 8 images belonging to 4 classes.\n",
      "Found 40 images belonging to 4 classes.\n",
      "Epoch 1/10\n",
      "2/2 [==============================] - 3s 2s/step - loss: 83.6089 - accuracy: 0.2917\n",
      "Epoch 2/10\n",
      "2/2 [==============================] - 2s 742ms/step - loss: 294.6924 - accuracy: 0.2500\n",
      "Epoch 3/10\n",
      "2/2 [==============================] - 3s 1s/step - loss: 157.1985 - accuracy: 0.5000\n",
      "Epoch 4/10\n",
      "2/2 [==============================] - 2s 736ms/step - loss: 174.1001 - accuracy: 0.3333\n",
      "Epoch 5/10\n",
      "2/2 [==============================] - 2s 723ms/step - loss: 241.1248 - accuracy: 0.3333\n",
      "Epoch 6/10\n",
      "2/2 [==============================] - 3s 1s/step - loss: 222.7975 - accuracy: 0.2500\n",
      "Epoch 7/10\n",
      "2/2 [==============================] - 2s 721ms/step - loss: 196.3967 - accuracy: 0.5417\n",
      "Epoch 8/10\n",
      "2/2 [==============================] - 2s 1s/step - loss: 71.6856 - accuracy: 0.5000\n",
      "Epoch 9/10\n",
      "2/2 [==============================] - 2s 785ms/step - loss: 240.1557 - accuracy: 0.2083\n",
      "Epoch 10/10\n",
      "2/2 [==============================] - 2s 1s/step - loss: 442.3232 - accuracy: 0.2917\n"
     ]
    }
   ],
   "source": [
    "try:\n",
    "    config = ConfigurationManager()\n",
    "    training_config = config.get_training_config()\n",
    "    training = Training(config=training_config)\n",
    "    training.get_base_model()\n",
    "    training.train_valid_generator()\n",
    "    training.train()\n",
    "    \n",
    "except Exception as e:\n",
    "    raise e"
   ]
  },
  {
   "cell_type": "code",
   "execution_count": null,
   "id": "b9caad4a",
   "metadata": {},
   "outputs": [],
   "source": []
  }
 ],
 "metadata": {
  "kernelspec": {
   "display_name": "Python 3",
   "language": "python",
   "name": "python3"
  },
  "language_info": {
   "codemirror_mode": {
    "name": "ipython",
    "version": 3
   },
   "file_extension": ".py",
   "mimetype": "text/x-python",
   "name": "python",
   "nbconvert_exporter": "python",
   "pygments_lexer": "ipython3",
   "version": "3.10.16"
  }
 },
 "nbformat": 4,
 "nbformat_minor": 5
}
